{
 "cells": [
  {
   "cell_type": "code",
   "execution_count": 1,
   "metadata": {},
   "outputs": [],
   "source": [
    "import tensorflow as tf\n",
    "\n"
   ]
  },
  {
   "cell_type": "code",
   "execution_count": 2,
   "metadata": {},
   "outputs": [],
   "source": [
    "for device in tf.config.experimental.list_physical_devices(\"GPU\"):\n",
    "    tf.config.experimental.set_memory_growth(device, True)"
   ]
  },
  {
   "cell_type": "code",
   "execution_count": 3,
   "metadata": {},
   "outputs": [
    {
     "data": {
      "text/plain": [
       "'2.6.0-dev20210512'"
      ]
     },
     "execution_count": 3,
     "metadata": {},
     "output_type": "execute_result"
    }
   ],
   "source": [
    "tf.__version__"
   ]
  },
  {
   "cell_type": "code",
   "execution_count": 4,
   "metadata": {},
   "outputs": [],
   "source": [
    "from tensorflow.keras.preprocessing.image import ImageDataGenerator"
   ]
  },
  {
   "cell_type": "code",
   "execution_count": 5,
   "metadata": {},
   "outputs": [],
   "source": [
    "\n",
    "#test_datagen = ImageDataGenerator(rescale=1./255)"
   ]
  },
  {
   "cell_type": "code",
   "execution_count": 6,
   "metadata": {},
   "outputs": [],
   "source": [
    "\n",
    "# train_datagen = ImageDataGenerator(\n",
    "#         rescale=1./255,\n",
    "#         shear_range=0.2,\n",
    "#         zoom_range=0.2,\n",
    "#         horizontal_flip=True,validation_split=0.2)\n",
    "# image_width=128\n",
    "# image_height=128\n",
    "# batch_size=32 #change this and get graphs\n",
    "# data_dir=r\"C:\\Users\\abhil\\Documents\\abhilash\\Project3\\Fish_Dataset\\Fish_Dataset\"\n",
    "# from tensorflow.keras.preprocessing import image_dataset_from_directory\n",
    "# train_ds = train_datagen.flow_from_directory(\n",
    "#   data_dir,\n",
    "\n",
    "#   subset=\"training\",\n",
    "#   seed=123,\n",
    "\n",
    "\n",
    "#   batch_size=batch_size)\n",
    "# test_ds =train_datagen.flow_from_directory(\n",
    "#   data_dir,\n",
    " \n",
    "#   subset=\"validation\",\n",
    "\n",
    "#   seed=123,\n",
    "\n",
    "#   batch_size=batch_size)\n"
   ]
  },
  {
   "cell_type": "code",
   "execution_count": 7,
   "metadata": {},
   "outputs": [
    {
     "name": "stdout",
     "output_type": "stream",
     "text": [
      "Found 9000 files belonging to 9 classes.\n",
      "Using 7200 files for training.\n",
      "Found 9000 files belonging to 9 classes.\n",
      "Using 1800 files for validation.\n"
     ]
    }
   ],
   "source": [
    "image_width=128\n",
    "image_height=128\n",
    "batch_size=32 #change this and get graphs\n",
    "data_dir=r\"C:\\Users\\abhil\\Documents\\abhilash\\Project3\\Fish_Dataset\\Fish_Dataset\"\n",
    "from tensorflow.keras.preprocessing import image_dataset_from_directory\n",
    "train_ds = image_dataset_from_directory(\n",
    "  data_dir,\n",
    "  validation_split=0.2,\n",
    "  subset=\"training\",\n",
    "  seed=123,\n",
    "    label_mode='categorical',\n",
    "  image_size=(image_height, image_width),\n",
    "  batch_size=batch_size)\n",
    "test_ds =image_dataset_from_directory(\n",
    "  data_dir,\n",
    "  validation_split=0.2,\n",
    "  subset=\"validation\",\n",
    "    label_mode='categorical',\n",
    "  seed=123,\n",
    "  image_size=(image_height, image_width),\n",
    "  batch_size=batch_size)"
   ]
  },
  {
   "cell_type": "code",
   "execution_count": 8,
   "metadata": {},
   "outputs": [],
   "source": [
    "AUTOTUNE = tf.data.AUTOTUNE\n",
    "\n",
    "train_ds = train_ds.cache().prefetch(buffer_size=AUTOTUNE)\n",
    "test_ds = test_ds.cache().prefetch(buffer_size=AUTOTUNE)"
   ]
  },
  {
   "cell_type": "code",
   "execution_count": 9,
   "metadata": {},
   "outputs": [],
   "source": [
    "from tensorflow.keras import Sequential\n",
    "from tensorflow.keras import Sequential,layers\n",
    "\n"
   ]
  },
  {
   "cell_type": "code",
   "execution_count": 10,
   "metadata": {},
   "outputs": [],
   "source": [
    "image_width=128\n",
    "image_height=128\n",
    "classes=9\n",
    "model=Sequential()\n",
    "#model.add(tf.keras.layers.experimental.preprocessing.Rescaling\n",
    "#(1./255,input_shape=(image_width,image_height,3)))\n",
    "#(1./255))\n",
    "model.add(layers.Conv2D(filters=64,kernel_size=3,padding=\"same\",activation='relu',input_shape=(image_width,image_height,3)))\n",
    "model.add(layers.Conv2D(filters=64,kernel_size=3,padding=\"same\",activation='relu'))\n",
    "model.add(layers.MaxPooling2D(pool_size=(2,2),strides=(2,2)))\n",
    "model.add(layers.Conv2D(filters=128,kernel_size=3,padding=\"same\",activation='relu'))\n",
    "model.add(layers.Conv2D(filters=128,kernel_size=3,padding=\"same\",activation='relu'))\n",
    "model.add(layers.MaxPooling2D(pool_size=(2,2),strides=(2,2)))\n",
    "model.add(layers.Conv2D(filters=256,kernel_size=3,padding=\"same\",activation='relu'))\n",
    "model.add(layers.Conv2D(filters=256,kernel_size=3,padding=\"same\",activation='relu'))\n",
    "model.add(layers.Conv2D(filters=256,kernel_size=3,padding=\"same\",activation='relu'))\n",
    "model.add(layers.MaxPooling2D(pool_size=(2,2),strides=(2,2)))\n",
    "model.add(layers.Conv2D(filters=512,kernel_size=3,padding=\"same\",activation='relu'))\n",
    "model.add(layers.Conv2D(filters=512,kernel_size=3,padding=\"same\",activation='relu'))\n",
    "model.add(layers.Conv2D(filters=512,kernel_size=3,padding=\"same\",activation='relu'))\n",
    "model.add(layers.MaxPooling2D(pool_size=(2,2),strides=(2,2)))\n",
    "model.add(layers.Conv2D(filters=512,kernel_size=3,padding=\"same\",activation='relu'))\n",
    "model.add(layers.Conv2D(filters=512,kernel_size=3,padding=\"same\",activation='relu'))\n",
    "model.add(layers.Conv2D(filters=512,kernel_size=3,padding=\"same\",activation='relu'))\n",
    "model.add(layers.MaxPooling2D(pool_size=(2,2),strides=(2,2)))\n",
    "model.add(layers.Flatten())\n",
    "model.add(layers.Dense(4090,'relu'))\n",
    "model.add(layers.Dense(4090,'relu'))\n",
    "model.add(layers.Dense(classes,'softmax'))\n",
    "\n"
   ]
  },
  {
   "cell_type": "code",
   "execution_count": 11,
   "metadata": {},
   "outputs": [
    {
     "name": "stdout",
     "output_type": "stream",
     "text": [
      "Model: \"sequential\"\n",
      "_________________________________________________________________\n",
      "Layer (type)                 Output Shape              Param #   \n",
      "=================================================================\n",
      "conv2d (Conv2D)              (None, 128, 128, 64)      1792      \n",
      "_________________________________________________________________\n",
      "conv2d_1 (Conv2D)            (None, 128, 128, 64)      36928     \n",
      "_________________________________________________________________\n",
      "max_pooling2d (MaxPooling2D) (None, 64, 64, 64)        0         \n",
      "_________________________________________________________________\n",
      "conv2d_2 (Conv2D)            (None, 64, 64, 128)       73856     \n",
      "_________________________________________________________________\n",
      "conv2d_3 (Conv2D)            (None, 64, 64, 128)       147584    \n",
      "_________________________________________________________________\n",
      "max_pooling2d_1 (MaxPooling2 (None, 32, 32, 128)       0         \n",
      "_________________________________________________________________\n",
      "conv2d_4 (Conv2D)            (None, 32, 32, 256)       295168    \n",
      "_________________________________________________________________\n",
      "conv2d_5 (Conv2D)            (None, 32, 32, 256)       590080    \n",
      "_________________________________________________________________\n",
      "conv2d_6 (Conv2D)            (None, 32, 32, 256)       590080    \n",
      "_________________________________________________________________\n",
      "max_pooling2d_2 (MaxPooling2 (None, 16, 16, 256)       0         \n",
      "_________________________________________________________________\n",
      "conv2d_7 (Conv2D)            (None, 16, 16, 512)       1180160   \n",
      "_________________________________________________________________\n",
      "conv2d_8 (Conv2D)            (None, 16, 16, 512)       2359808   \n",
      "_________________________________________________________________\n",
      "conv2d_9 (Conv2D)            (None, 16, 16, 512)       2359808   \n",
      "_________________________________________________________________\n",
      "max_pooling2d_3 (MaxPooling2 (None, 8, 8, 512)         0         \n",
      "_________________________________________________________________\n",
      "conv2d_10 (Conv2D)           (None, 8, 8, 512)         2359808   \n",
      "_________________________________________________________________\n",
      "conv2d_11 (Conv2D)           (None, 8, 8, 512)         2359808   \n",
      "_________________________________________________________________\n",
      "conv2d_12 (Conv2D)           (None, 8, 8, 512)         2359808   \n",
      "_________________________________________________________________\n",
      "max_pooling2d_4 (MaxPooling2 (None, 4, 4, 512)         0         \n",
      "_________________________________________________________________\n",
      "flatten (Flatten)            (None, 8192)              0         \n",
      "_________________________________________________________________\n",
      "dense (Dense)                (None, 4090)              33509370  \n",
      "_________________________________________________________________\n",
      "dense_1 (Dense)              (None, 4090)              16732190  \n",
      "_________________________________________________________________\n",
      "dense_2 (Dense)              (None, 9)                 36819     \n",
      "=================================================================\n",
      "Total params: 64,993,067\n",
      "Trainable params: 64,993,067\n",
      "Non-trainable params: 0\n",
      "_________________________________________________________________\n"
     ]
    }
   ],
   "source": [
    "model.summary()"
   ]
  },
  {
   "cell_type": "code",
   "execution_count": 12,
   "metadata": {},
   "outputs": [],
   "source": [
    "import tensorboard"
   ]
  },
  {
   "cell_type": "code",
   "execution_count": null,
   "metadata": {},
   "outputs": [],
   "source": []
  },
  {
   "cell_type": "code",
   "execution_count": null,
   "metadata": {},
   "outputs": [],
   "source": [
    "\n"
   ]
  },
  {
   "cell_type": "code",
   "execution_count": 13,
   "metadata": {},
   "outputs": [],
   "source": [
    "model.compile(\n",
    "  optimizer='adam',\n",
    "  loss='binary_crossentropy',\n",
    "  metrics=['accuracy'])"
   ]
  },
  {
   "cell_type": "code",
   "execution_count": 14,
   "metadata": {},
   "outputs": [
    {
     "name": "stdout",
     "output_type": "stream",
     "text": [
      "Epoch 1/10\n",
      "225/225 [==============================] - 27s 86ms/step - loss: 20.8001 - accuracy: 0.1606 - val_loss: 0.3084 - val_accuracy: 0.2933\n",
      "Epoch 2/10\n",
      "225/225 [==============================] - 18s 81ms/step - loss: 0.2765 - accuracy: 0.3907 - val_loss: 0.2167 - val_accuracy: 0.5644\n",
      "Epoch 3/10\n",
      "225/225 [==============================] - 18s 81ms/step - loss: 0.1916 - accuracy: 0.6189 - val_loss: 0.1977 - val_accuracy: 0.6372\n",
      "Epoch 4/10\n",
      "225/225 [==============================] - 18s 80ms/step - loss: 0.1329 - accuracy: 0.7538 - val_loss: 0.1229 - val_accuracy: 0.7617\n",
      "Epoch 5/10\n",
      "225/225 [==============================] - 22s 96ms/step - loss: 0.0940 - accuracy: 0.8286 - val_loss: 0.0891 - val_accuracy: 0.8489\n",
      "Epoch 6/10\n",
      "225/225 [==============================] - 24s 106ms/step - loss: 0.0874 - accuracy: 0.8492 - val_loss: 0.0713 - val_accuracy: 0.8839\n",
      "Epoch 7/10\n",
      "225/225 [==============================] - 18s 80ms/step - loss: 0.0554 - accuracy: 0.9053 - val_loss: 0.0533 - val_accuracy: 0.9100\n",
      "Epoch 8/10\n",
      "225/225 [==============================] - 18s 82ms/step - loss: 0.0417 - accuracy: 0.9294 - val_loss: 0.0567 - val_accuracy: 0.9072\n",
      "Epoch 9/10\n",
      "225/225 [==============================] - 20s 90ms/step - loss: 0.0339 - accuracy: 0.9454 - val_loss: 0.0593 - val_accuracy: 0.9006\n",
      "Epoch 10/10\n",
      "225/225 [==============================] - 21s 93ms/step - loss: 0.0323 - accuracy: 0.9506 - val_loss: 0.1249 - val_accuracy: 0.8467\n"
     ]
    }
   ],
   "source": [
    "from datetime import datetime\n",
    "logdir = \"abhilash/fit/\" + datetime.now().strftime(\"%Y%m%d-%H%M%S\")\n",
    "tensorboard_callback = tf.keras.callbacks.TensorBoard(log_dir=logdir)\n",
    "\n",
    "\n",
    "\n",
    "history = model.fit(\n",
    "  train_ds,\n",
    "  validation_data=test_ds,\n",
    "  epochs=10,callbacks=[tensorboard_callback]\n",
    ")"
   ]
  },
  {
   "cell_type": "code",
   "execution_count": 15,
   "metadata": {},
   "outputs": [
    {
     "name": "stderr",
     "output_type": "stream",
     "text": [
      "UsageError: Line magic function `%tensorboard` not found.\n"
     ]
    }
   ],
   "source": [
    "%tensorboard --logdir logs/scalars/\n"
   ]
  },
  {
   "cell_type": "code",
   "execution_count": null,
   "metadata": {},
   "outputs": [],
   "source": [
    "%tensorboard --inspect --logdir logs/scalars/\n",
    "\n"
   ]
  },
  {
   "cell_type": "code",
   "execution_count": null,
   "metadata": {},
   "outputs": [],
   "source": []
  },
  {
   "cell_type": "code",
   "execution_count": null,
   "metadata": {},
   "outputs": [],
   "source": [
    "\n"
   ]
  },
  {
   "cell_type": "code",
   "execution_count": null,
   "metadata": {},
   "outputs": [],
   "source": [
    "\n",
    "%load_ext tensorboard\n",
    "#%load_ext tensorboard.notebook\n"
   ]
  },
  {
   "cell_type": "code",
   "execution_count": null,
   "metadata": {},
   "outputs": [],
   "source": [
    "%tensorboard --logdir path\n",
    "\n"
   ]
  },
  {
   "cell_type": "code",
   "execution_count": null,
   "metadata": {
    "scrolled": true
   },
   "outputs": [],
   "source": [
    "\n",
    "\n",
    "%tensorboard --logdir=logdir --host=0.0.0.0\n"
   ]
  },
  {
   "cell_type": "code",
   "execution_count": null,
   "metadata": {},
   "outputs": [],
   "source": [
    "%tensorboard --logdir {logs_base_dir}  --host localhost\n",
    "\n"
   ]
  },
  {
   "cell_type": "code",
   "execution_count": null,
   "metadata": {},
   "outputs": [],
   "source": []
  },
  {
   "cell_type": "code",
   "execution_count": null,
   "metadata": {},
   "outputs": [],
   "source": []
  }
 ],
 "metadata": {
  "kernelspec": {
   "display_name": "Python 3",
   "language": "python",
   "name": "python3"
  },
  "language_info": {
   "codemirror_mode": {
    "name": "ipython",
    "version": 3
   },
   "file_extension": ".py",
   "mimetype": "text/x-python",
   "name": "python",
   "nbconvert_exporter": "python",
   "pygments_lexer": "ipython3",
   "version": "3.9.4"
  }
 },
 "nbformat": 4,
 "nbformat_minor": 4
}
